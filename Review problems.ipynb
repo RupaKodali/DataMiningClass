{
 "cells": [
  {
   "cell_type": "markdown",
   "id": "32c34fa0-133c-4024-bd5b-4f2fe80e3010",
   "metadata": {},
   "source": [
    "1) Define the following metrics and perform the following operations\n",
    "Write a Python program using Python Lists\n",
    "Write a Python program and NumPy\n",
    "\n",
    "Matrix A =  [[ 3.7827  3.3454  3.2341]  , [ 2.2122  3.5678  3.9087] , \n",
    "[1.1234  2.8934,  5.9087]].\n",
    "\n",
    "Matrix B =  [[ 3.1234  3.0987  3.1234]  , [ 2.1111  3.2222  3.3333] , \n",
    "[1.0987  1.3456,  5.1234]].\n",
    "\n",
    "Matrix C =  [[ 3.1243  3.0989  3.1256 ]  , [ 2.6721  3.6785  3.9017] , \n",
    "[1.1254  2.8956,  5.9187]].\n"
   ]
  },
  {
   "cell_type": "code",
   "execution_count": 1,
   "id": "3451b997-1f5b-4f20-9d90-db0b297c9473",
   "metadata": {},
   "outputs": [
    {
     "name": "stdout",
     "output_type": "stream",
     "text": [
      "[[10.0304, 9.543000000000001, 9.4831], [6.9954, 10.4685, 11.143699999999999], [3.3475, 7.1346, 16.9508]]\n"
     ]
    }
   ],
   "source": [
    "# Define matrices using lists\n",
    "A = [[3.7827, 3.3454, 3.2341], [2.2122, 3.5678, 3.9087], [1.1234, 2.8934, 5.9087]]\n",
    "B = [[3.1234, 3.0987, 3.1234], [2.1111, 3.2222, 3.3333], [1.0987, 1.3456, 5.1234]]\n",
    "C = [[3.1243, 3.0989, 3.1256], [2.6721, 3.6785, 3.9017], [1.1254, 2.8956, 5.9187]]\n",
    "\n",
    "# matrix addition\n",
    "result = [[A[i][j] + B[i][j] + C[i][j] for j in range(len(A[0]))] for i in range(len(A))]\n",
    "print(result)\n"
   ]
  },
  {
   "cell_type": "code",
   "execution_count": 2,
   "id": "8d415614-0398-4a52-9ba5-252c0c48e21e",
   "metadata": {},
   "outputs": [
    {
     "name": "stdout",
     "output_type": "stream",
     "text": [
      "[[10.0304  9.543   9.4831]\n",
      " [ 6.9954 10.4685 11.1437]\n",
      " [ 3.3475  7.1346 16.9508]]\n"
     ]
    }
   ],
   "source": [
    "import numpy as np\n",
    "\n",
    "# Define matrices using NumPy arrays\n",
    "A = np.array([[3.7827, 3.3454, 3.2341], [2.2122, 3.5678, 3.9087], [1.1234, 2.8934, 5.9087]])\n",
    "B = np.array([[3.1234, 3.0987, 3.1234], [2.1111, 3.2222, 3.3333], [1.0987, 1.3456, 5.1234]])\n",
    "C = np.array([[3.1243, 3.0989, 3.1256], [2.6721, 3.6785, 3.9017], [1.1254, 2.8956, 5.9187]])\n",
    "\n",
    "# matrix addition\n",
    "result = A + B + C\n",
    "print(result)\n"
   ]
  },
  {
   "cell_type": "markdown",
   "id": "26fb7563-e73e-40c2-992a-be5212b4e39a",
   "metadata": {},
   "source": [
    "2) Write a Python Program and perform the following operations ?"
   ]
  },
  {
   "cell_type": "markdown",
   "id": "5b70773c-e3a2-4bd2-9557-1fa7bb456b55",
   "metadata": {},
   "source": [
    "Create a List {1225, 4986, 6789, 7890, 2345, 6783, 0987, 1234, 8765, 3456}\n"
   ]
  },
  {
   "cell_type": "code",
   "execution_count": 3,
   "id": "e7b6a1a3-d514-48ba-a53c-ca766395d219",
   "metadata": {},
   "outputs": [],
   "source": [
    "lst = [1225, 4986, 6789, 7890, 2345, 6783, 987, 1234, 8765, 3456]"
   ]
  },
  {
   "cell_type": "markdown",
   "id": "d26e91c0-2988-4401-a636-34adff9624cf",
   "metadata": {},
   "source": [
    "Iterate using a for loop\n"
   ]
  },
  {
   "cell_type": "code",
   "execution_count": 4,
   "id": "7d6e57b1-b047-4cab-9666-893079fcd1db",
   "metadata": {},
   "outputs": [
    {
     "name": "stdout",
     "output_type": "stream",
     "text": [
      "1225\n",
      "4986\n",
      "6789\n",
      "7890\n",
      "2345\n",
      "6783\n",
      "987\n",
      "1234\n",
      "8765\n",
      "3456\n"
     ]
    }
   ],
   "source": [
    "for item in lst:\n",
    "    print(item)\n"
   ]
  },
  {
   "cell_type": "markdown",
   "id": "be1ec196-f632-49c7-b3b1-e731fe73c14f",
   "metadata": {},
   "source": [
    "Iterate using for loop and range"
   ]
  },
  {
   "cell_type": "code",
   "execution_count": 5,
   "id": "56b4da7f-5d9c-4a43-a606-c2619f0b2e5e",
   "metadata": {},
   "outputs": [
    {
     "name": "stdout",
     "output_type": "stream",
     "text": [
      "1225\n",
      "4986\n",
      "6789\n",
      "7890\n",
      "2345\n",
      "6783\n",
      "987\n",
      "1234\n",
      "8765\n",
      "3456\n"
     ]
    }
   ],
   "source": [
    "for i in range(len(lst)):\n",
    "    print(lst[i])\n"
   ]
  },
  {
   "cell_type": "markdown",
   "id": "2514f3ac-d3b7-4d5e-97b4-6b134bb5136a",
   "metadata": {},
   "source": [
    "List Comprehension"
   ]
  },
  {
   "cell_type": "code",
   "execution_count": 6,
   "id": "cb84988f-7398-4230-b072-1281e4cddfc4",
   "metadata": {},
   "outputs": [
    {
     "name": "stdout",
     "output_type": "stream",
     "text": [
      "[1500625, 24860196, 46090521, 62252100, 5499025, 46009089, 974169, 1522756, 76825225, 11943936]\n"
     ]
    }
   ],
   "source": [
    "squared_lst = [x**2 for x in lst]\n",
    "print(squared_lst)"
   ]
  },
  {
   "cell_type": "markdown",
   "id": "a0eda90c-79be-47db-870a-8a23f9d11f7b",
   "metadata": {},
   "source": [
    "Enumerate"
   ]
  },
  {
   "cell_type": "code",
   "execution_count": 7,
   "id": "60e2dff9-14bc-473f-a7af-4ed58e00f4a3",
   "metadata": {},
   "outputs": [
    {
     "name": "stdout",
     "output_type": "stream",
     "text": [
      "Index: 0, Value: 1225\n",
      "Index: 1, Value: 4986\n",
      "Index: 2, Value: 6789\n",
      "Index: 3, Value: 7890\n",
      "Index: 4, Value: 2345\n",
      "Index: 5, Value: 6783\n",
      "Index: 6, Value: 987\n",
      "Index: 7, Value: 1234\n",
      "Index: 8, Value: 8765\n",
      "Index: 9, Value: 3456\n"
     ]
    }
   ],
   "source": [
    "for index, value in enumerate(lst):\n",
    "    print(f\"Index: {index}, Value: {value}\")\n"
   ]
  },
  {
   "cell_type": "markdown",
   "id": "fe65314f-2716-4c82-ae0c-8d8d239f4208",
   "metadata": {},
   "source": [
    "Iter function and next function\n"
   ]
  },
  {
   "cell_type": "code",
   "execution_count": 8,
   "id": "527e5d67-facf-4f9e-87bc-6227bd06027f",
   "metadata": {},
   "outputs": [
    {
     "name": "stdout",
     "output_type": "stream",
     "text": [
      "1225\n",
      "4986\n"
     ]
    }
   ],
   "source": [
    "iterator = iter(lst)\n",
    "print(next(iterator))\n",
    "print(next(iterator))\n"
   ]
  },
  {
   "cell_type": "markdown",
   "id": "bcd0a09a-7408-49d7-93ce-52d4ef21535e",
   "metadata": {},
   "source": [
    "Map function"
   ]
  },
  {
   "cell_type": "code",
   "execution_count": 9,
   "id": "d51d53a0-7167-4f0d-9fd5-2644c11709d8",
   "metadata": {},
   "outputs": [
    {
     "name": "stdout",
     "output_type": "stream",
     "text": [
      "[1500625, 24860196, 46090521, 62252100, 5499025, 46009089, 974169, 1522756, 76825225, 11943936]\n"
     ]
    }
   ],
   "source": [
    "squared_lst = list(map(lambda x: x**2, lst))\n",
    "print(squared_lst)\n"
   ]
  },
  {
   "cell_type": "markdown",
   "id": "cd41d555-27d1-45d7-b4b0-b6fb359b74ba",
   "metadata": {},
   "source": [
    "Using zip"
   ]
  },
  {
   "cell_type": "code",
   "execution_count": 10,
   "id": "b61e568e-3867-4144-a91d-92e8144ac6b1",
   "metadata": {},
   "outputs": [
    {
     "name": "stdout",
     "output_type": "stream",
     "text": [
      "1225 5\n",
      "4986 6\n",
      "6789 7\n",
      "7890 8\n",
      "2345 9\n"
     ]
    }
   ],
   "source": [
    "lst2 = [5, 6, 7, 8, 9]\n",
    "for item1, item2 in zip(lst, lst2):\n",
    "    print(item1, item2)\n"
   ]
  },
  {
   "cell_type": "markdown",
   "id": "057b39c6-cf28-4537-a53b-aa41842b37d3",
   "metadata": {},
   "source": [
    "Using NumPy Module"
   ]
  },
  {
   "cell_type": "code",
   "execution_count": 11,
   "id": "143b3e71-0908-4011-8ec3-286d4b5dc2ff",
   "metadata": {},
   "outputs": [
    {
     "name": "stdout",
     "output_type": "stream",
     "text": [
      "[ 2450  9972 13578 15780  4690 13566  1974  2468 17530  6912]\n"
     ]
    }
   ],
   "source": [
    "np_lst = np.array(lst)\n",
    "print(np_lst * 2)"
   ]
  },
  {
   "cell_type": "markdown",
   "id": "0fb62c8a-c5e8-46ae-86b8-0b1b7b564597",
   "metadata": {},
   "source": [
    "3) For a List A, B, C, D, E write a python program to compute all the combinations and permutations "
   ]
  },
  {
   "cell_type": "code",
   "execution_count": 12,
   "id": "6e4ac5cb-42f1-4625-a85c-1c5547277787",
   "metadata": {},
   "outputs": [
    {
     "name": "stdout",
     "output_type": "stream",
     "text": [
      "[['A', 'B', 'C', 'D', 'E'], ['A', 'B', 'C', 'E', 'D'], ['A', 'B', 'D', 'C', 'E'], ['A', 'B', 'D', 'E', 'C'], ['A', 'B', 'E', 'C', 'D'], ['A', 'B', 'E', 'D', 'C'], ['A', 'C', 'B', 'D', 'E'], ['A', 'C', 'B', 'E', 'D'], ['A', 'C', 'D', 'B', 'E'], ['A', 'C', 'D', 'E', 'B'], ['A', 'C', 'E', 'B', 'D'], ['A', 'C', 'E', 'D', 'B'], ['A', 'D', 'B', 'C', 'E'], ['A', 'D', 'B', 'E', 'C'], ['A', 'D', 'C', 'B', 'E'], ['A', 'D', 'C', 'E', 'B'], ['A', 'D', 'E', 'B', 'C'], ['A', 'D', 'E', 'C', 'B'], ['A', 'E', 'B', 'C', 'D'], ['A', 'E', 'B', 'D', 'C'], ['A', 'E', 'C', 'B', 'D'], ['A', 'E', 'C', 'D', 'B'], ['A', 'E', 'D', 'B', 'C'], ['A', 'E', 'D', 'C', 'B'], ['B', 'A', 'C', 'D', 'E'], ['B', 'A', 'C', 'E', 'D'], ['B', 'A', 'D', 'C', 'E'], ['B', 'A', 'D', 'E', 'C'], ['B', 'A', 'E', 'C', 'D'], ['B', 'A', 'E', 'D', 'C'], ['B', 'C', 'A', 'D', 'E'], ['B', 'C', 'A', 'E', 'D'], ['B', 'C', 'D', 'A', 'E'], ['B', 'C', 'D', 'E', 'A'], ['B', 'C', 'E', 'A', 'D'], ['B', 'C', 'E', 'D', 'A'], ['B', 'D', 'A', 'C', 'E'], ['B', 'D', 'A', 'E', 'C'], ['B', 'D', 'C', 'A', 'E'], ['B', 'D', 'C', 'E', 'A'], ['B', 'D', 'E', 'A', 'C'], ['B', 'D', 'E', 'C', 'A'], ['B', 'E', 'A', 'C', 'D'], ['B', 'E', 'A', 'D', 'C'], ['B', 'E', 'C', 'A', 'D'], ['B', 'E', 'C', 'D', 'A'], ['B', 'E', 'D', 'A', 'C'], ['B', 'E', 'D', 'C', 'A'], ['C', 'A', 'B', 'D', 'E'], ['C', 'A', 'B', 'E', 'D'], ['C', 'A', 'D', 'B', 'E'], ['C', 'A', 'D', 'E', 'B'], ['C', 'A', 'E', 'B', 'D'], ['C', 'A', 'E', 'D', 'B'], ['C', 'B', 'A', 'D', 'E'], ['C', 'B', 'A', 'E', 'D'], ['C', 'B', 'D', 'A', 'E'], ['C', 'B', 'D', 'E', 'A'], ['C', 'B', 'E', 'A', 'D'], ['C', 'B', 'E', 'D', 'A'], ['C', 'D', 'A', 'B', 'E'], ['C', 'D', 'A', 'E', 'B'], ['C', 'D', 'B', 'A', 'E'], ['C', 'D', 'B', 'E', 'A'], ['C', 'D', 'E', 'A', 'B'], ['C', 'D', 'E', 'B', 'A'], ['C', 'E', 'A', 'B', 'D'], ['C', 'E', 'A', 'D', 'B'], ['C', 'E', 'B', 'A', 'D'], ['C', 'E', 'B', 'D', 'A'], ['C', 'E', 'D', 'A', 'B'], ['C', 'E', 'D', 'B', 'A'], ['D', 'A', 'B', 'C', 'E'], ['D', 'A', 'B', 'E', 'C'], ['D', 'A', 'C', 'B', 'E'], ['D', 'A', 'C', 'E', 'B'], ['D', 'A', 'E', 'B', 'C'], ['D', 'A', 'E', 'C', 'B'], ['D', 'B', 'A', 'C', 'E'], ['D', 'B', 'A', 'E', 'C'], ['D', 'B', 'C', 'A', 'E'], ['D', 'B', 'C', 'E', 'A'], ['D', 'B', 'E', 'A', 'C'], ['D', 'B', 'E', 'C', 'A'], ['D', 'C', 'A', 'B', 'E'], ['D', 'C', 'A', 'E', 'B'], ['D', 'C', 'B', 'A', 'E'], ['D', 'C', 'B', 'E', 'A'], ['D', 'C', 'E', 'A', 'B'], ['D', 'C', 'E', 'B', 'A'], ['D', 'E', 'A', 'B', 'C'], ['D', 'E', 'A', 'C', 'B'], ['D', 'E', 'B', 'A', 'C'], ['D', 'E', 'B', 'C', 'A'], ['D', 'E', 'C', 'A', 'B'], ['D', 'E', 'C', 'B', 'A'], ['E', 'A', 'B', 'C', 'D'], ['E', 'A', 'B', 'D', 'C'], ['E', 'A', 'C', 'B', 'D'], ['E', 'A', 'C', 'D', 'B'], ['E', 'A', 'D', 'B', 'C'], ['E', 'A', 'D', 'C', 'B'], ['E', 'B', 'A', 'C', 'D'], ['E', 'B', 'A', 'D', 'C'], ['E', 'B', 'C', 'A', 'D'], ['E', 'B', 'C', 'D', 'A'], ['E', 'B', 'D', 'A', 'C'], ['E', 'B', 'D', 'C', 'A'], ['E', 'C', 'A', 'B', 'D'], ['E', 'C', 'A', 'D', 'B'], ['E', 'C', 'B', 'A', 'D'], ['E', 'C', 'B', 'D', 'A'], ['E', 'C', 'D', 'A', 'B'], ['E', 'C', 'D', 'B', 'A'], ['E', 'D', 'A', 'B', 'C'], ['E', 'D', 'A', 'C', 'B'], ['E', 'D', 'B', 'A', 'C'], ['E', 'D', 'B', 'C', 'A'], ['E', 'D', 'C', 'A', 'B'], ['E', 'D', 'C', 'B', 'A']]\n"
     ]
    }
   ],
   "source": [
    "def get_permutations(lst):\n",
    "    # Base case: if the list is empty, return an empty list\n",
    "    if len(lst) == 0:\n",
    "        return []\n",
    "    \n",
    "    # Base case: if the list has one element, return a list containing that element\n",
    "    if len(lst) == 1:\n",
    "        return [lst]\n",
    "    \n",
    "    # Recursive case\n",
    "    perms = []\n",
    "    for i in range(len(lst)):\n",
    "        # Extract the current element\n",
    "        current = lst[i]\n",
    "        # Get the remaining elements\n",
    "        remaining_lst = lst[:i] + lst[i+1:]\n",
    "        # Generate permutations for the remaining elements\n",
    "        for p in get_permutations(remaining_lst):\n",
    "            perms.append([current] + p)\n",
    "    return perms\n",
    "\n",
    "lst = ['A', 'B', 'C', 'D', 'E']\n",
    "permutations = get_permutations(lst)\n",
    "print(permutations)\n"
   ]
  },
  {
   "cell_type": "markdown",
   "id": "7253fde2-c00f-47b8-9260-a03fe8b6e244",
   "metadata": {},
   "source": [
    "4) Using the same list use itertools compute permutations and combinations \n"
   ]
  },
  {
   "cell_type": "code",
   "execution_count": 13,
   "id": "b8833584-3c25-42ec-bf28-70124a85f4a6",
   "metadata": {},
   "outputs": [
    {
     "name": "stdout",
     "output_type": "stream",
     "text": [
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n",
      "[('A', 'B'), ('A', 'C'), ('A', 'D'), ('A', 'E'), ('B', 'C'), ('B', 'D'), ('B', 'E'), ('C', 'D'), ('C', 'E'), ('D', 'E')]\n"
     ]
    }
   ],
   "source": [
    "from itertools import permutations, combinations\n",
    "\n",
    "lst = ['A', 'B', 'C', 'D', 'E']\n",
    "\n",
    "# Permutations\n",
    "perm = list(permutations(lst))\n",
    "print(perm)\n",
    "\n",
    "# Combinations\n",
    "comb = list(combinations(lst, 2))\n",
    "print(comb)\n"
   ]
  }
 ],
 "metadata": {
  "kernelspec": {
   "display_name": "Python 3 (ipykernel)",
   "language": "python",
   "name": "python3"
  },
  "language_info": {
   "codemirror_mode": {
    "name": "ipython",
    "version": 3
   },
   "file_extension": ".py",
   "mimetype": "text/x-python",
   "name": "python",
   "nbconvert_exporter": "python",
   "pygments_lexer": "ipython3",
   "version": "3.12.3"
  }
 },
 "nbformat": 4,
 "nbformat_minor": 5
}
